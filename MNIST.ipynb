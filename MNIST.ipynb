{
 "cells": [
  {
   "cell_type": "markdown",
   "id": "4c28e0a4",
   "metadata": {},
   "source": [
    "# MNIST "
   ]
  },
  {
   "cell_type": "markdown",
   "id": "203164f7",
   "metadata": {},
   "source": [
    "### Packages"
   ]
  },
  {
   "cell_type": "code",
   "execution_count": 1,
   "id": "c759e125",
   "metadata": {},
   "outputs": [],
   "source": [
    "import tensorflow as tf \n",
    "import numpy as np "
   ]
  },
  {
   "cell_type": "markdown",
   "id": "6bb21077",
   "metadata": {},
   "source": [
    "### Loading dataset"
   ]
  },
  {
   "cell_type": "code",
   "execution_count": 2,
   "id": "e9a45898",
   "metadata": {},
   "outputs": [],
   "source": [
    "# from keras datasets we get the mnist dataset\n",
    "mnist = tf.keras.datasets.mnist\n",
    "# here we don't care about the testset so we gonna ignore it for now\n",
    "(x_train, y_train), (x_test, y_test) = mnist.load_data()\n",
    "# mnist dataset has 70k images of size (28,28)"
   ]
  },
  {
   "cell_type": "code",
   "execution_count": 3,
   "id": "30f3c051",
   "metadata": {},
   "outputs": [],
   "source": [
    "# normalizing datasset\n",
    "x_train = x_train/255.0\n",
    "x_test = x_test/255.0"
   ]
  },
  {
   "cell_type": "markdown",
   "id": "721764e7",
   "metadata": {},
   "source": [
    "### Callbacks"
   ]
  },
  {
   "cell_type": "code",
   "execution_count": 4,
   "id": "9d2c99d7",
   "metadata": {},
   "outputs": [],
   "source": [
    "# callbacks is a way to stop training when we reach a certain metric\n",
    "class myCallback(tf.keras.callbacks.Callback): #here we load tf.keras.callbacks.Callback\n",
    "    def on_epoch_end(self, epoch, logs={}) :\n",
    "        if (logs.get('accuracy') >= 0.99) :\n",
    "            print('\\nReached 99% accuracy cancel training')\n",
    "            self.model.stop_training = True"
   ]
  },
  {
   "cell_type": "code",
   "execution_count": 5,
   "id": "ac1a57df",
   "metadata": {},
   "outputs": [],
   "source": [
    "callbacks = myCallback()"
   ]
  },
  {
   "cell_type": "markdown",
   "id": "fb946afa",
   "metadata": {},
   "source": [
    "### Model"
   ]
  },
  {
   "cell_type": "code",
   "execution_count": 6,
   "id": "84c92fcb",
   "metadata": {},
   "outputs": [],
   "source": [
    "model = tf.keras.models.Sequential([\n",
    "    tf.keras.layers.Flatten(),\n",
    "    tf.keras.layers.Dense(512, activation=tf.nn.relu),\n",
    "    tf.keras.layers.Dense(10, activation=tf.nn.softmax)\n",
    "])\n",
    "\n",
    "# 1- as we are using dense layers we should flatten the input image \n",
    "# 2- in the hidden layers we will use dense layers with 512 hidden unit and relu activation\n",
    "# 3- in the output layers as we have 10 calsses so we will use softmax and 10 hidden layers for 10 classes"
   ]
  },
  {
   "cell_type": "code",
   "execution_count": 7,
   "id": "5d2c64ab",
   "metadata": {},
   "outputs": [],
   "source": [
    "model.compile(\n",
    "        optimizer = tf.keras.optimizers.Adam(),\n",
    "        loss = 'sparse_categorical_crossentropy',\n",
    "        metrics = ['accuracy']\n",
    ")\n",
    "\n",
    "# For softmax activation function we use the sparse_categorical_crossentropy function"
   ]
  },
  {
   "cell_type": "code",
   "execution_count": 8,
   "id": "86703a77",
   "metadata": {},
   "outputs": [
    {
     "name": "stdout",
     "output_type": "stream",
     "text": [
      "Epoch 1/7\n",
      "1875/1875 [==============================] - 8s 4ms/step - loss: 0.2015 - accuracy: 0.9407\n",
      "Epoch 2/7\n",
      "1875/1875 [==============================] - 7s 4ms/step - loss: 0.0811 - accuracy: 0.9750\n",
      "Epoch 3/7\n",
      "1875/1875 [==============================] - 7s 4ms/step - loss: 0.0533 - accuracy: 0.9832\n",
      "Epoch 4/7\n",
      "1875/1875 [==============================] - 7s 4ms/step - loss: 0.0355 - accuracy: 0.9892\n",
      "Epoch 5/7\n",
      "1870/1875 [============================>.] - ETA: 0s - loss: 0.0262 - accuracy: 0.9917\n",
      "Reached 99% accuracy cancel training\n",
      "1875/1875 [==============================] - 7s 4ms/step - loss: 0.0261 - accuracy: 0.9917\n"
     ]
    },
    {
     "data": {
      "text/plain": [
       "<keras.callbacks.History at 0x271ccf607c0>"
      ]
     },
     "execution_count": 8,
     "metadata": {},
     "output_type": "execute_result"
    }
   ],
   "source": [
    "model.fit(x_train, y_train, epochs=7, callbacks=[callbacks])"
   ]
  },
  {
   "cell_type": "code",
   "execution_count": 14,
   "id": "cfa76889",
   "metadata": {},
   "outputs": [
    {
     "name": "stdout",
     "output_type": "stream",
     "text": [
      "313/313 [==============================] - 1s 2ms/step - loss: 0.0674 - accuracy: 0.9815\n"
     ]
    },
    {
     "data": {
      "text/plain": [
       "[0.0674455314874649, 0.9815000295639038]"
      ]
     },
     "execution_count": 14,
     "metadata": {},
     "output_type": "execute_result"
    }
   ],
   "source": [
    "model.evaluate(x_test, y_test)"
   ]
  },
  {
   "cell_type": "code",
   "execution_count": 17,
   "id": "cb113093",
   "metadata": {},
   "outputs": [
    {
     "name": "stdout",
     "output_type": "stream",
     "text": [
      "313/313 [==============================] - 1s 2ms/step\n"
     ]
    }
   ],
   "source": [
    "classes = model.predict(x_test)"
   ]
  },
  {
   "cell_type": "code",
   "execution_count": 20,
   "id": "ec6e3bbe",
   "metadata": {},
   "outputs": [
    {
     "data": {
      "text/plain": [
       "7"
      ]
     },
     "execution_count": 20,
     "metadata": {},
     "output_type": "execute_result"
    }
   ],
   "source": [
    "tf.argmax(classes[0]).numpy()"
   ]
  },
  {
   "cell_type": "markdown",
   "id": "3a018729",
   "metadata": {},
   "source": [
    "### MNIST_Fasion"
   ]
  },
  {
   "cell_type": "code",
   "execution_count": 21,
   "id": "eaa22994",
   "metadata": {},
   "outputs": [
    {
     "name": "stdout",
     "output_type": "stream",
     "text": [
      "Downloading data from https://storage.googleapis.com/tensorflow/tf-keras-datasets/train-labels-idx1-ubyte.gz\n",
      "29515/29515 [==============================] - 0s 3us/step\n",
      "Downloading data from https://storage.googleapis.com/tensorflow/tf-keras-datasets/train-images-idx3-ubyte.gz\n",
      "26421880/26421880 [==============================] - 8s 0us/step\n",
      "Downloading data from https://storage.googleapis.com/tensorflow/tf-keras-datasets/t10k-labels-idx1-ubyte.gz\n",
      "5148/5148 [==============================] - 0s 0s/step\n",
      "Downloading data from https://storage.googleapis.com/tensorflow/tf-keras-datasets/t10k-images-idx3-ubyte.gz\n",
      "4422102/4422102 [==============================] - 1s 0us/step\n"
     ]
    }
   ],
   "source": [
    "fmnist = tf.keras.datasets.fashion_mnist\n",
    "\n",
    "# Load the dataset\n",
    "(x_train, y_train),(x_test, y_test) = fmnist.load_data()\n",
    "\n",
    "# Normalize the pixel values\n",
    "x_train, x_test = x_train / 255.0, x_test / 255.0\n",
    "\n",
    "# Then repeat same as before"
   ]
  },
  {
   "cell_type": "code",
   "execution_count": null,
   "id": "382c05db",
   "metadata": {},
   "outputs": [],
   "source": []
  }
 ],
 "metadata": {
  "kernelspec": {
   "display_name": "Python 3 (ipykernel)",
   "language": "python",
   "name": "python3"
  },
  "language_info": {
   "codemirror_mode": {
    "name": "ipython",
    "version": 3
   },
   "file_extension": ".py",
   "mimetype": "text/x-python",
   "name": "python",
   "nbconvert_exporter": "python",
   "pygments_lexer": "ipython3",
   "version": "3.9.2"
  }
 },
 "nbformat": 4,
 "nbformat_minor": 5
}
